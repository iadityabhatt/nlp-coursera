{
  "nbformat": 4,
  "nbformat_minor": 0,
  "metadata": {
    "colab": {
      "name": "Python_Basics.ipynb",
      "provenance": [],
      "collapsed_sections": [],
      "toc_visible": true
    },
    "kernelspec": {
      "name": "python3",
      "display_name": "Python 3"
    }
  },
  "cells": [
    {
      "cell_type": "markdown",
      "metadata": {
        "id": "Su9wzcR-j4EJ"
      },
      "source": [
        "# Basics"
      ]
    },
    {
      "cell_type": "markdown",
      "metadata": {
        "id": "qntAzhoTmYBs"
      },
      "source": [
        "Expressions have values and values have data types associated with them"
      ]
    },
    {
      "cell_type": "code",
      "metadata": {
        "id": "o_4qwy1floXz"
      },
      "source": [
        "print(100) # 100 is an expression with value 100 and data type integer\n",
        "print(3.14)\n",
        "print(\"Hello\")"
      ],
      "execution_count": null,
      "outputs": []
    },
    {
      "cell_type": "code",
      "metadata": {
        "id": "gmpxUSCnlobU",
        "colab": {
          "base_uri": "https://localhost:8080/",
          "height": 85
        },
        "outputId": "9d044841-0e1c-4b5c-cbac-2852b742e4ff"
      },
      "source": [
        "# Operators and operands\n",
        "print(100+200) # 100+200 is the expression and 300 the value\n",
        "print(10/3)\n",
        "print(10//3)\n",
        "print(10%3)"
      ],
      "execution_count": null,
      "outputs": [
        {
          "output_type": "stream",
          "text": [
            "300\n",
            "3.3333333333333335\n",
            "3\n",
            "1\n"
          ],
          "name": "stdout"
        }
      ]
    },
    {
      "cell_type": "code",
      "metadata": {
        "id": "MT47BY_4lokw",
        "colab": {
          "base_uri": "https://localhost:8080/",
          "height": 51
        },
        "outputId": "c9b6ec8b-978a-4610-c827-4709fdd1cd2e"
      },
      "source": [
        "# Input\n",
        "n = input(\"Hello, Please enter your name: \")\n",
        "print(f'Hello {n}')"
      ],
      "execution_count": null,
      "outputs": [
        {
          "output_type": "stream",
          "text": [
            "Hello, Please enter your name: Adiyta\n",
            "Hello Adiyta\n"
          ],
          "name": "stdout"
        }
      ]
    },
    {
      "cell_type": "code",
      "metadata": {
        "id": "tMujt3Bplots"
      },
      "source": [
        ""
      ],
      "execution_count": null,
      "outputs": []
    },
    {
      "cell_type": "code",
      "metadata": {
        "id": "BzDd7MPQlorN"
      },
      "source": [
        ""
      ],
      "execution_count": null,
      "outputs": []
    },
    {
      "cell_type": "code",
      "metadata": {
        "id": "BOT3JRw2loiD"
      },
      "source": [
        ""
      ],
      "execution_count": null,
      "outputs": []
    },
    {
      "cell_type": "code",
      "metadata": {
        "id": "id01qaI9lofX"
      },
      "source": [
        ""
      ],
      "execution_count": null,
      "outputs": []
    },
    {
      "cell_type": "markdown",
      "metadata": {
        "id": "19BEXXH_xDlP"
      },
      "source": [
        "# List & Strings"
      ]
    },
    {
      "cell_type": "markdown",
      "metadata": {
        "id": "skH8R8eOxGoK"
      },
      "source": [
        "# Iteration"
      ]
    },
    {
      "cell_type": "markdown",
      "metadata": {
        "id": "NovTFlDrzttq"
      },
      "source": [
        "# Boolean Expressions"
      ]
    },
    {
      "cell_type": "code",
      "metadata": {
        "id": "PB-s8JIrzzQb",
        "colab": {
          "base_uri": "https://localhost:8080/",
          "height": 34
        },
        "outputId": "718530ec-fadb-4dea-b8fa-60a8e05f9a54"
      },
      "source": [
        "# Boolean Expression\n",
        "print(3>4)"
      ],
      "execution_count": null,
      "outputs": [
        {
          "output_type": "stream",
          "text": [
            "False\n"
          ],
          "name": "stdout"
        }
      ]
    },
    {
      "cell_type": "code",
      "metadata": {
        "id": "edRxt7IN1uvT",
        "colab": {
          "base_uri": "https://localhost:8080/",
          "height": 68
        },
        "outputId": "5d89ad7a-86ab-49df-d468-807bec24ac0e"
      },
      "source": [
        "# Logical Operators\n",
        "x = 5 \n",
        "print(x>3 and x >4)\n",
        "\n",
        "n = 25\n",
        "print(n%2==0 or n%5 ==0)\n",
        "\n",
        "z = True\n",
        "\n",
        "print(not z)"
      ],
      "execution_count": null,
      "outputs": [
        {
          "output_type": "stream",
          "text": [
            "True\n",
            "True\n",
            "False\n"
          ],
          "name": "stdout"
        }
      ]
    },
    {
      "cell_type": "code",
      "metadata": {
        "id": "nq40A2Ab1u7c",
        "colab": {
          "base_uri": "https://localhost:8080/",
          "height": 102
        },
        "outputId": "035eeebc-73cb-4f37-e7f1-397dead77764"
      },
      "source": [
        "# in & not in operators\n",
        "print('p' in 'apple')\n",
        "print('i' in 'apple')\n",
        "\n",
        "print('x' not in 'apple')\n",
        "print('' in 'apple')\n",
        "\n",
        "print('cat' in ['cat', 'dog', 'cow', 'goat'])"
      ],
      "execution_count": null,
      "outputs": [
        {
          "output_type": "stream",
          "text": [
            "True\n",
            "False\n",
            "True\n",
            "True\n",
            "True\n"
          ],
          "name": "stdout"
        }
      ]
    },
    {
      "cell_type": "markdown",
      "metadata": {
        "id": "vfPd6ZER5wfc"
      },
      "source": [
        "# Conditional Execution"
      ]
    },
    {
      "cell_type": "code",
      "metadata": {
        "id": "yWyLV3ci1vF4",
        "colab": {
          "base_uri": "https://localhost:8080/",
          "height": 34
        },
        "outputId": "fd61a717-c1eb-468d-c340-618c246896f7"
      },
      "source": [
        ""
      ],
      "execution_count": null,
      "outputs": [
        {
          "output_type": "stream",
          "text": [
            "True\n"
          ],
          "name": "stdout"
        }
      ]
    },
    {
      "cell_type": "code",
      "metadata": {
        "id": "u5rp8aDa1u_A"
      },
      "source": [
        ""
      ],
      "execution_count": null,
      "outputs": []
    },
    {
      "cell_type": "code",
      "metadata": {
        "id": "WuSUPzBl1uzT"
      },
      "source": [
        ""
      ],
      "execution_count": null,
      "outputs": []
    },
    {
      "cell_type": "code",
      "metadata": {
        "id": "6deugaGi1ugu"
      },
      "source": [
        ""
      ],
      "execution_count": null,
      "outputs": []
    },
    {
      "cell_type": "markdown",
      "metadata": {
        "id": "N-pGzAkBt9M3"
      },
      "source": [
        "# Transforming Sequences\n"
      ]
    },
    {
      "cell_type": "markdown",
      "metadata": {
        "id": "_JhRg_XnSB1l"
      },
      "source": [
        "### Important Concepts to Remember.\n",
        "1. Mapping Operation.\n",
        "\n",
        "What sequence will you iterate through as you accumulate a result?\n",
        "What type of value will you accumulate?"
      ]
    },
    {
      "cell_type": "code",
      "metadata": {
        "id": "-l578XMviQLH",
        "colab": {
          "base_uri": "https://localhost:8080/",
          "height": 34
        },
        "outputId": "b55b1f20-aa26-4544-8a30-e441687c7ebe"
      },
      "source": [
        "fruit = ['apple', 'pear', 'banana']\n",
        "fruit"
      ],
      "execution_count": null,
      "outputs": [
        {
          "output_type": "execute_result",
          "data": {
            "text/plain": [
              "['apple', 'pear', 'banana']"
            ]
          },
          "metadata": {
            "tags": []
          },
          "execution_count": 1
        }
      ]
    },
    {
      "cell_type": "code",
      "metadata": {
        "id": "5TXKNXXQ7hMC",
        "colab": {
          "base_uri": "https://localhost:8080/",
          "height": 34
        },
        "outputId": "61544ef3-450e-4f2a-e6a5-88b0a6f56327"
      },
      "source": [
        "# Lists are mutable.\n",
        "fruit[0] = 'pear'\n",
        "fruit[-1] = 'orange'\n",
        "fruit"
      ],
      "execution_count": null,
      "outputs": [
        {
          "output_type": "execute_result",
          "data": {
            "text/plain": [
              "['pear', 'pear', 'orange']"
            ]
          },
          "metadata": {
            "tags": []
          },
          "execution_count": 9
        }
      ]
    },
    {
      "cell_type": "code",
      "metadata": {
        "id": "l1wTJi7G7ujB",
        "colab": {
          "base_uri": "https://localhost:8080/",
          "height": 51
        },
        "outputId": "5090767a-c034-47c4-89be-5165048e02a8"
      },
      "source": [
        "# Use assignment to modify multiple items in a list.\n",
        "list_a = ['a','b','c','d','e','f']\n",
        "print(list_a)\n",
        "list_a[1:3] = ['x','y']\n",
        "print(list_a)"
      ],
      "execution_count": null,
      "outputs": [
        {
          "output_type": "stream",
          "text": [
            "['a', 'b', 'c', 'd', 'e', 'f']\n",
            "['a', 'x', 'y', 'd', 'e', 'f']\n"
          ],
          "name": "stdout"
        }
      ]
    },
    {
      "cell_type": "code",
      "metadata": {
        "id": "0VB-H87r8LeN",
        "colab": {
          "base_uri": "https://localhost:8080/",
          "height": 51
        },
        "outputId": "9b4f190e-304f-4756-c10d-bdf8297b8b25"
      },
      "source": [
        "# Use assignment to delete items\n",
        "list_b = ['a','b','c','d','e','f']\n",
        "print(list_b)\n",
        "list_b[1:3] = []\n",
        "print(list_b)"
      ],
      "execution_count": null,
      "outputs": [
        {
          "output_type": "stream",
          "text": [
            "['a', 'b', 'c', 'd', 'e', 'f']\n",
            "['a', 'd', 'e', 'f']\n"
          ],
          "name": "stdout"
        }
      ]
    },
    {
      "cell_type": "code",
      "metadata": {
        "id": "PDCiFdby8z72",
        "colab": {
          "base_uri": "https://localhost:8080/",
          "height": 34
        },
        "outputId": "91af5577-9be3-481d-fa62-539a28a154cc"
      },
      "source": [
        "# Strings are immutable\n",
        "\n",
        "s1 = 'Machine Learning'\n",
        "print(s1)"
      ],
      "execution_count": null,
      "outputs": [
        {
          "output_type": "stream",
          "text": [
            "Machine Learning\n"
          ],
          "name": "stdout"
        }
      ]
    },
    {
      "cell_type": "code",
      "metadata": {
        "id": "X0mKbOEK9LJx"
      },
      "source": [
        "# Throws error, 'str' object does not support item assignment\n",
        "s1[0] = 'J'"
      ],
      "execution_count": null,
      "outputs": []
    },
    {
      "cell_type": "code",
      "metadata": {
        "id": "kxu-fWMS9Vfx",
        "colab": {
          "base_uri": "https://localhost:8080/",
          "height": 34
        },
        "outputId": "94d04698-ab28-4135-e9e1-fbb39dd6f051"
      },
      "source": [
        "s2 = 'J' + s1[1:]\n",
        "print(s2)"
      ],
      "execution_count": null,
      "outputs": [
        {
          "output_type": "stream",
          "text": [
            "Jachine Learning\n"
          ],
          "name": "stdout"
        }
      ]
    },
    {
      "cell_type": "code",
      "metadata": {
        "id": "MSzqR0Wu9hHv",
        "colab": {
          "base_uri": "https://localhost:8080/",
          "height": 51
        },
        "outputId": "c915ecba-2655-4787-bce2-9ce5a2dde1a2"
      },
      "source": [
        "# List element deletion\n",
        "list1 = ['India', 'US', 'China']\n",
        "print(list1)\n",
        "del list1[2]\n",
        "print(list1)"
      ],
      "execution_count": null,
      "outputs": [
        {
          "output_type": "stream",
          "text": [
            "['India', 'US', 'China']\n",
            "['India', 'US']\n"
          ],
          "name": "stdout"
        }
      ]
    },
    {
      "cell_type": "code",
      "metadata": {
        "id": "VgeB0wQA_Xeb"
      },
      "source": [
        "# Objects & References\n",
        "# Python interpretor figures out that its the same string apple and makes a & b both point to the same string.\n",
        "a = 'apple'\n",
        "b = 'apple'"
      ],
      "execution_count": null,
      "outputs": []
    },
    {
      "cell_type": "code",
      "metadata": {
        "id": "McbrWCJJ_25e",
        "colab": {
          "base_uri": "https://localhost:8080/",
          "height": 34
        },
        "outputId": "7e8692f0-1796-441c-9055-00fd9c443213"
      },
      "source": [
        "# is operator checks if a and b are aliases to same objects.\n",
        "print (a is b)"
      ],
      "execution_count": null,
      "outputs": [
        {
          "output_type": "stream",
          "text": [
            "True\n"
          ],
          "name": "stdout"
        }
      ]
    },
    {
      "cell_type": "code",
      "metadata": {
        "id": "05rghhQw_4Yo"
      },
      "source": [
        "l1 = [1,2,3]\n",
        "l2 = [1,2,3]"
      ],
      "execution_count": null,
      "outputs": []
    },
    {
      "cell_type": "code",
      "metadata": {
        "id": "aFqkPZJRAxsL",
        "colab": {
          "base_uri": "https://localhost:8080/",
          "height": 34
        },
        "outputId": "d1857cdb-7ed3-4b6e-ee59-2b6d90e59779"
      },
      "source": [
        "# Checks whether l1 and l2 are aliases for exactly the same objects\n",
        "print (l1 is l2)"
      ],
      "execution_count": null,
      "outputs": [
        {
          "output_type": "stream",
          "text": [
            "False\n"
          ],
          "name": "stdout"
        }
      ]
    },
    {
      "cell_type": "code",
      "metadata": {
        "id": "lfNYZR7sA2GR",
        "colab": {
          "base_uri": "https://localhost:8080/",
          "height": 34
        },
        "outputId": "4f6c0bfe-d70b-4550-95d4-5ce67c89c320"
      },
      "source": [
        "# Checks whether variables l1 and l2 are bound to objects that are equivalent to each other. \n",
        "print(l1 == l2)"
      ],
      "execution_count": null,
      "outputs": [
        {
          "output_type": "stream",
          "text": [
            "True\n"
          ],
          "name": "stdout"
        }
      ]
    },
    {
      "cell_type": "code",
      "metadata": {
        "id": "K6hzN4ijA5yP",
        "colab": {
          "base_uri": "https://localhost:8080/",
          "height": 34
        },
        "outputId": "ef4c4bf5-db56-42f4-c883-49067e93f221"
      },
      "source": [
        "# Print the id of l1.\n",
        "print(id(l1))"
      ],
      "execution_count": null,
      "outputs": [
        {
          "output_type": "stream",
          "text": [
            "140349208633288\n"
          ],
          "name": "stdout"
        }
      ]
    },
    {
      "cell_type": "code",
      "metadata": {
        "id": "hO_GduD9A-Tt",
        "colab": {
          "base_uri": "https://localhost:8080/",
          "height": 34
        },
        "outputId": "31b26637-0805-4335-e46a-2de92297d5d9"
      },
      "source": [
        "# Print the id of l2.\n",
        "print(id(l2))"
      ],
      "execution_count": null,
      "outputs": [
        {
          "output_type": "stream",
          "text": [
            "140349207501576\n"
          ],
          "name": "stdout"
        }
      ]
    },
    {
      "cell_type": "code",
      "metadata": {
        "id": "hMe4nhEHA_gZ",
        "colab": {
          "base_uri": "https://localhost:8080/",
          "height": 34
        },
        "outputId": "e31004f7-759f-495f-a700-8472515ecfb1"
      },
      "source": [
        "# Its important two know when two variables are alias of the same object \n",
        "# and when they are equivalent as it can get confusing when we try to modify \n",
        "# these objects\n",
        "\n",
        "a = [11,12,13]\n",
        "b = [11,12,13]\n",
        "print(a is b)"
      ],
      "execution_count": null,
      "outputs": [
        {
          "output_type": "stream",
          "text": [
            "False\n"
          ],
          "name": "stdout"
        }
      ]
    },
    {
      "cell_type": "code",
      "metadata": {
        "id": "UeKd2O5nDEWw",
        "colab": {
          "base_uri": "https://localhost:8080/",
          "height": 51
        },
        "outputId": "e121852c-46c9-4823-dfab-b27b6dcf9832"
      },
      "source": [
        "b = a\n",
        "print(a == b)\n",
        "print(a is b)"
      ],
      "execution_count": null,
      "outputs": [
        {
          "output_type": "stream",
          "text": [
            "True\n",
            "True\n"
          ],
          "name": "stdout"
        }
      ]
    },
    {
      "cell_type": "code",
      "metadata": {
        "id": "OkJXxQ-FDNt0",
        "colab": {
          "base_uri": "https://localhost:8080/",
          "height": 51
        },
        "outputId": "8af77ebf-f61e-412c-d111-bbefe58bf4c7"
      },
      "source": [
        "# Although we never made any changes to list \"a\" directly, but we see that it \n",
        "# has been mutated.\n",
        "\n",
        "b[0] = -99\n",
        "print(a)\n",
        "print(b)"
      ],
      "execution_count": null,
      "outputs": [
        {
          "output_type": "stream",
          "text": [
            "[-99, 12, 13]\n",
            "[-99, 12, 13]\n"
          ],
          "name": "stdout"
        }
      ]
    },
    {
      "cell_type": "code",
      "metadata": {
        "id": "mArGTwXRDYJf",
        "colab": {
          "base_uri": "https://localhost:8080/",
          "height": 85
        },
        "outputId": "c6c53af5-9bc7-497e-947a-b10686d84c7d"
      },
      "source": [
        "# Cloning Lists. \n",
        "# Slice operator always grabs some part of a list and makes a new list out of \n",
        "# those grabbed parts. \n",
        "\n",
        "list1 = [42, 43, 44]\n",
        "list2 = list1[:] # clone of list 1\n",
        "\n",
        "print(list1 == list2)\n",
        "print(list1 is list2) # both point to different objects\n",
        "\n",
        "list2[1] = -99\n",
        "\n",
        "# Only list 2 has been mutated\n",
        "print(list1)\n",
        "print(list2)\n"
      ],
      "execution_count": null,
      "outputs": [
        {
          "output_type": "stream",
          "text": [
            "True\n",
            "False\n",
            "[42, 43, 44]\n",
            "[42, -99, 44]\n"
          ],
          "name": "stdout"
        }
      ]
    },
    {
      "cell_type": "code",
      "metadata": {
        "id": "sdY3aQ87GDI3",
        "colab": {
          "base_uri": "https://localhost:8080/",
          "height": 68
        },
        "outputId": "7e665475-9ae5-4b76-cb4d-8524069b6ccb"
      },
      "source": [
        "### Methods on Strings and Lists\n",
        "# Create an empty list \n",
        "l = []\n",
        "\n",
        "# Append sticks an item at the end of the list. Most important.\n",
        "l.append(42)\n",
        "print(l)\n",
        "l.append(43)\n",
        "print(l)\n",
        "l.append(44)\n",
        "print(l) # Same list object is being mutated"
      ],
      "execution_count": null,
      "outputs": [
        {
          "output_type": "stream",
          "text": [
            "[42]\n",
            "[42, 43]\n",
            "[42, 43, 44]\n"
          ],
          "name": "stdout"
        }
      ]
    },
    {
      "cell_type": "code",
      "metadata": {
        "id": "fg-71JedHvrc",
        "colab": {
          "base_uri": "https://localhost:8080/",
          "height": 34
        },
        "outputId": "5b344084-53b1-46e7-cc37-59eb9b4e1f8a"
      },
      "source": [
        "# inset splices the value at a given index and shifts the existing element at \n",
        "# that index.\n",
        "\n",
        "l.insert(1, 44)\n",
        "print(l)"
      ],
      "execution_count": null,
      "outputs": [
        {
          "output_type": "stream",
          "text": [
            "[42, 44, 43, 44]\n"
          ],
          "name": "stdout"
        }
      ]
    },
    {
      "cell_type": "code",
      "metadata": {
        "id": "PqchE2CwIapM",
        "colab": {
          "base_uri": "https://localhost:8080/",
          "height": 34
        },
        "outputId": "d6853ced-05b8-4ff8-b4c7-ba4b207e488d"
      },
      "source": [
        "# count the occurrence of a particular element in a list.\n",
        "l.count(44)"
      ],
      "execution_count": null,
      "outputs": [
        {
          "output_type": "execute_result",
          "data": {
            "text/plain": [
              "2"
            ]
          },
          "metadata": {
            "tags": []
          },
          "execution_count": 38
        }
      ]
    },
    {
      "cell_type": "code",
      "metadata": {
        "id": "hwMJk0-rIugU",
        "colab": {
          "base_uri": "https://localhost:8080/",
          "height": 34
        },
        "outputId": "ab9b8eee-e5d7-4737-de0a-367afa6510f1"
      },
      "source": [
        "# index takes in a value and returns its first position in the list. \n",
        "l.index(44)"
      ],
      "execution_count": null,
      "outputs": [
        {
          "output_type": "execute_result",
          "data": {
            "text/plain": [
              "1"
            ]
          },
          "metadata": {
            "tags": []
          },
          "execution_count": 39
        }
      ]
    },
    {
      "cell_type": "code",
      "metadata": {
        "id": "jVrr09YEJEEb",
        "colab": {
          "base_uri": "https://localhost:8080/",
          "height": 51
        },
        "outputId": "88bbb40e-2b7d-4154-9f88-41cf59f304cf"
      },
      "source": [
        "# Reverses a list. (Mutates)\n",
        "print(l.reverse())\n",
        "print(l)"
      ],
      "execution_count": null,
      "outputs": [
        {
          "output_type": "stream",
          "text": [
            "None\n",
            "[44, 43, 44, 42]\n"
          ],
          "name": "stdout"
        }
      ]
    },
    {
      "cell_type": "code",
      "metadata": {
        "id": "DYjodIgkJPq6",
        "colab": {
          "base_uri": "https://localhost:8080/",
          "height": 34
        },
        "outputId": "d6e1a9d0-bee0-4058-8f78-6e1901c96d44"
      },
      "source": [
        "# Sorts a list in ascending order. (Returns a value)\n",
        "l.sort()\n",
        "print(l)"
      ],
      "execution_count": null,
      "outputs": [
        {
          "output_type": "stream",
          "text": [
            "[42, 43, 44, 44]\n"
          ],
          "name": "stdout"
        }
      ]
    },
    {
      "cell_type": "code",
      "metadata": {
        "id": "LcLgThj5J4YU",
        "colab": {
          "base_uri": "https://localhost:8080/",
          "height": 34
        },
        "outputId": "1f1e9d39-59d0-4dc4-8177-497c1d46ffd0"
      },
      "source": [
        "# Takes an element and removes it from the list. (Mutates)\n",
        "l.remove(44)\n",
        "print(l)"
      ],
      "execution_count": null,
      "outputs": [
        {
          "output_type": "stream",
          "text": [
            "[42, 43, 44]\n"
          ],
          "name": "stdout"
        }
      ]
    },
    {
      "cell_type": "code",
      "metadata": {
        "id": "rnhMX6SeKJwm",
        "colab": {
          "base_uri": "https://localhost:8080/",
          "height": 51
        },
        "outputId": "d431fc78-7ade-4cc5-f1af-24b75279ae2d"
      },
      "source": [
        "# pop removes last item in the list (Mutates and Returns)\n",
        "last = l.pop()\n",
        "print(l)\n",
        "print(last)"
      ],
      "execution_count": null,
      "outputs": [
        {
          "output_type": "stream",
          "text": [
            "[42, 43]\n",
            "44\n"
          ],
          "name": "stdout"
        }
      ]
    },
    {
      "cell_type": "code",
      "metadata": {
        "id": "gSoa-S3TKYqo",
        "colab": {
          "base_uri": "https://localhost:8080/",
          "height": 34
        },
        "outputId": "2cc66dd7-28a6-4d42-a23a-84488dd8dd5b"
      },
      "source": [
        "# Append vs Concatenate\n",
        "\n",
        "list1 = [45, 32, 88]\n",
        "list1.append('cat')\n",
        "print(list1)"
      ],
      "execution_count": null,
      "outputs": [
        {
          "output_type": "stream",
          "text": [
            "[45, 32, 88, 'cat']\n"
          ],
          "name": "stdout"
        }
      ]
    },
    {
      "cell_type": "code",
      "metadata": {
        "id": "esK3rkNALflr",
        "colab": {
          "base_uri": "https://localhost:8080/",
          "height": 34
        },
        "outputId": "deb9d6dd-09ee-4492-d341-5c9662f4dfe3"
      },
      "source": [
        "list2 = [45, 32, 88]\n",
        "list2 = list2 + ['cat']\n",
        "print(list2)"
      ],
      "execution_count": null,
      "outputs": [
        {
          "output_type": "stream",
          "text": [
            "[45, 32, 88, 'cat']\n"
          ],
          "name": "stdout"
        }
      ]
    },
    {
      "cell_type": "code",
      "metadata": {
        "id": "b-EyY4tVLxkB",
        "colab": {
          "base_uri": "https://localhost:8080/",
          "height": 119
        },
        "outputId": "b45cf063-81e7-4128-e414-3022da74bd8d"
      },
      "source": [
        "orig_list = [0,1,2]\n",
        "print('Orig list id is :{}'.format(id(orig_list)))\n",
        "alias_list = orig_list\n",
        "print('alias_list id is :{}'.format(id(alias_list)))\n",
        "orig_list = orig_list + ['cow']\n",
        "print('Orig list id is :{}'.format(id(orig_list)))\n",
        "print('alias_list  id is :{}'.format(id(alias_list)))\n",
        "print(orig_list)\n",
        "print(alias_list)"
      ],
      "execution_count": null,
      "outputs": [
        {
          "output_type": "stream",
          "text": [
            "Orig list id is :140349208527304\n",
            "alias_list id is :140349208527304\n",
            "Orig list id is :140349207015496\n",
            "alias_list  id is :140349208527304\n",
            "[0, 1, 2, 'cow']\n",
            "[0, 1, 2]\n"
          ],
          "name": "stdout"
        }
      ]
    },
    {
      "cell_type": "code",
      "metadata": {
        "id": "N2fRhzJBPqiv",
        "colab": {
          "base_uri": "https://localhost:8080/",
          "height": 51
        },
        "outputId": "f35e60ec-631e-4b3e-dabb-477ba08314a2"
      },
      "source": [
        "# Non Mutating methods on strings.\n",
        "s1 = 'Machine Learning'\n",
        "print(s1.lower())\n",
        "print(s1.upper())"
      ],
      "execution_count": null,
      "outputs": [
        {
          "output_type": "stream",
          "text": [
            "machine learning\n",
            "MACHINE LEARNING\n"
          ],
          "name": "stdout"
        }
      ]
    },
    {
      "cell_type": "code",
      "metadata": {
        "id": "3ahwTuw1RALw"
      },
      "source": [
        "# strip() removes the trailing whitespaces"
      ],
      "execution_count": null,
      "outputs": []
    },
    {
      "cell_type": "code",
      "metadata": {
        "id": "zSwaQHghRePP"
      },
      "source": [
        "# replace('pattern', 'replacement') "
      ],
      "execution_count": null,
      "outputs": []
    },
    {
      "cell_type": "code",
      "metadata": {
        "id": "8uzbR00gU8Vk",
        "colab": {
          "base_uri": "https://localhost:8080/",
          "height": 34
        },
        "outputId": "a142206f-95ba-4af3-b4f2-b79d930a3f58"
      },
      "source": [
        "# String Format Methods\n",
        "name = 'Aditya'\n",
        "age = 29\n",
        "print('Hello '+name+' Your age is '+ str(age))"
      ],
      "execution_count": null,
      "outputs": [
        {
          "output_type": "stream",
          "text": [
            "Hello Aditya Your age is 29\n"
          ],
          "name": "stdout"
        }
      ]
    },
    {
      "cell_type": "code",
      "metadata": {
        "id": "Z5Lg0azsVR0f",
        "colab": {
          "base_uri": "https://localhost:8080/",
          "height": 34
        },
        "outputId": "acae186b-b2b5-4b56-9c1d-bca91a880d12"
      },
      "source": [
        "print('Hello {}! Your age is {}'.format(name, age))"
      ],
      "execution_count": null,
      "outputs": [
        {
          "output_type": "stream",
          "text": [
            "Hello Aditya! Your age is 29\n"
          ],
          "name": "stdout"
        }
      ]
    },
    {
      "cell_type": "code",
      "metadata": {
        "id": "q_qjo12kVprC",
        "colab": {
          "base_uri": "https://localhost:8080/",
          "height": 68
        },
        "outputId": "5e734ec2-3eb1-41bd-d268-bc3b149f7965"
      },
      "source": [
        "orig_price = float(input('Enter the original price :'))\n",
        "discount = float(input('Enter the discount percentage :'))\n",
        "new_price = (1 -  discount/100) * orig_price\n",
        "calculation = '${:.2f} discounted by {}% is {:.4f}'.format(orig_price, discount, new_price)\n",
        "print(calculation)\n"
      ],
      "execution_count": null,
      "outputs": [
        {
          "output_type": "stream",
          "text": [
            "Enter the original price :30.22\n",
            "Enter the discount percentage :12\n",
            "$30.22 discounted by 12.0% is 26.5936\n"
          ],
          "name": "stdout"
        }
      ]
    },
    {
      "cell_type": "code",
      "metadata": {
        "id": "zV58FrZWY_6r",
        "colab": {
          "base_uri": "https://localhost:8080/",
          "height": 34
        },
        "outputId": "750f6749-b635-42f5-ef26-59c150bfa231"
      },
      "source": [
        "# Accumulator pattern with lists.\n",
        "nums = [3,4,5]\n",
        "accum = []\n",
        "for num in nums:\n",
        "  x = num**2\n",
        "  accum.append(x)\n",
        "print(accum)  "
      ],
      "execution_count": null,
      "outputs": [
        {
          "output_type": "stream",
          "text": [
            "[9, 16, 25]\n"
          ],
          "name": "stdout"
        }
      ]
    },
    {
      "cell_type": "code",
      "metadata": {
        "id": "xtpJIZUyXZQW",
        "colab": {
          "base_uri": "https://localhost:8080/",
          "height": 34
        },
        "outputId": "8c3a0850-e79b-40c9-e3ce-e4f55023e2ef"
      },
      "source": [
        "# Using list comprehension\n",
        "nums = [3,4,5]\n",
        "accum = [x**2 for x in nums]\n",
        "print(accum)"
      ],
      "execution_count": null,
      "outputs": [
        {
          "output_type": "stream",
          "text": [
            "[9, 16, 25]\n"
          ],
          "name": "stdout"
        }
      ]
    },
    {
      "cell_type": "code",
      "metadata": {
        "id": "avCeaUHuY-ov",
        "colab": {
          "base_uri": "https://localhost:8080/",
          "height": 34
        },
        "outputId": "9b208c83-26e8-47ab-c887-a8de845153b5"
      },
      "source": [
        "# Accumulator pattern with strings.\n",
        "s = 'cat'\n",
        "ac = ''\n",
        "for letter in s:\n",
        "  ac = ac + letter + '-' + letter + '-'\n",
        "\n",
        "print(ac)  "
      ],
      "execution_count": null,
      "outputs": [
        {
          "output_type": "stream",
          "text": [
            "c-c-a-a-t-t-\n"
          ],
          "name": "stdout"
        }
      ]
    },
    {
      "cell_type": "code",
      "metadata": {
        "id": "FuJEEjf-a8kU"
      },
      "source": [
        "inv = {'apples': 430, 'bananas': 312, 'oranges': 525, 'pears': 217}"
      ],
      "execution_count": null,
      "outputs": []
    },
    {
      "cell_type": "code",
      "metadata": {
        "colab": {
          "base_uri": "https://localhost:8080/"
        },
        "id": "nYfsEVat97jV",
        "outputId": "9828d737-acc5-400d-b801-cfd8f6af380d"
      },
      "source": [
        "inv.keys()"
      ],
      "execution_count": null,
      "outputs": [
        {
          "output_type": "execute_result",
          "data": {
            "text/plain": [
              "dict_keys(['apples', 'bananas', 'oranges', 'pears'])"
            ]
          },
          "metadata": {
            "tags": []
          },
          "execution_count": 3
        }
      ]
    },
    {
      "cell_type": "code",
      "metadata": {
        "colab": {
          "base_uri": "https://localhost:8080/"
        },
        "id": "5KBTYP199-L2",
        "outputId": "b9d331b8-7a44-439c-acb3-026995175278"
      },
      "source": [
        "inv.values()"
      ],
      "execution_count": null,
      "outputs": [
        {
          "output_type": "execute_result",
          "data": {
            "text/plain": [
              "dict_values([430, 312, 525, 217])"
            ]
          },
          "metadata": {
            "tags": []
          },
          "execution_count": 4
        }
      ]
    },
    {
      "cell_type": "code",
      "metadata": {
        "colab": {
          "base_uri": "https://localhost:8080/"
        },
        "id": "x40Y7N7Q-Etk",
        "outputId": "ff1b0537-ef5f-4eea-c810-245e9ad2455c"
      },
      "source": [
        "inv.items()"
      ],
      "execution_count": null,
      "outputs": [
        {
          "output_type": "execute_result",
          "data": {
            "text/plain": [
              "dict_items([('apples', 430), ('bananas', 312), ('oranges', 525), ('pears', 217)])"
            ]
          },
          "metadata": {
            "tags": []
          },
          "execution_count": 5
        }
      ]
    },
    {
      "cell_type": "code",
      "metadata": {
        "colab": {
          "base_uri": "https://localhost:8080/"
        },
        "id": "pTtZBom--ICD",
        "outputId": "2af5a69e-8e72-43c3-fd96-4f787a73e86e"
      },
      "source": [
        "list(inv.keys())"
      ],
      "execution_count": null,
      "outputs": [
        {
          "output_type": "execute_result",
          "data": {
            "text/plain": [
              "['apples', 'bananas', 'oranges', 'pears']"
            ]
          },
          "metadata": {
            "tags": []
          },
          "execution_count": 6
        }
      ]
    },
    {
      "cell_type": "code",
      "metadata": {
        "colab": {
          "base_uri": "https://localhost:8080/"
        },
        "id": "tGDi67U--Lvh",
        "outputId": "73fc6565-755c-46ac-86bd-ca03cf8497fd"
      },
      "source": [
        "list(inv.items())"
      ],
      "execution_count": null,
      "outputs": [
        {
          "output_type": "execute_result",
          "data": {
            "text/plain": [
              "[('apples', 430), ('bananas', 312), ('oranges', 525), ('pears', 217)]"
            ]
          },
          "metadata": {
            "tags": []
          },
          "execution_count": 7
        }
      ]
    },
    {
      "cell_type": "code",
      "metadata": {
        "id": "MVrPnjm9-2DF",
        "colab": {
          "base_uri": "https://localhost:8080/"
        },
        "outputId": "9883efca-ab41-430e-f951-caf12f2daadb"
      },
      "source": [
        "inv.get('apples')"
      ],
      "execution_count": null,
      "outputs": [
        {
          "output_type": "execute_result",
          "data": {
            "text/plain": [
              "430"
            ]
          },
          "metadata": {
            "tags": []
          },
          "execution_count": 8
        }
      ]
    },
    {
      "cell_type": "markdown",
      "metadata": {
        "id": "6SwdSeXy1Z4f"
      },
      "source": [
        "# Regular expressions"
      ]
    },
    {
      "cell_type": "code",
      "metadata": {
        "id": "MKLsP7tA1bwL"
      },
      "source": [
        "import re"
      ],
      "execution_count": 1,
      "outputs": []
    },
    {
      "cell_type": "code",
      "metadata": {
        "id": "VjZlXTzV2BFU"
      },
      "source": [
        "text = 'Call me at 124-234-9987 or n my another number 665-887-9754'\n",
        "phone_num_regex = re.compile(r'\\d\\d\\d-\\d\\d\\d-\\d\\d\\d\\d')\n",
        "mo = phone_num_regex.search(text)\n",
        "mo.group() # returns the pattern."
      ],
      "execution_count": null,
      "outputs": []
    },
    {
      "cell_type": "code",
      "metadata": {
        "id": "IcTEY_Yf2oxS"
      },
      "source": [
        "mo = phone_num_regex.findall(text) # Gives a list\n",
        "mo"
      ],
      "execution_count": null,
      "outputs": []
    },
    {
      "cell_type": "code",
      "metadata": {
        "colab": {
          "base_uri": "https://localhost:8080/"
        },
        "id": "t8pmYe3121Kg",
        "outputId": "ce347979-f33e-4b49-92b2-4075c7e6a15a"
      },
      "source": [
        "## Matching Groups using parenthesis\n",
        "\n",
        "phoneNumRegex = re.compile(r'(\\d\\d\\d)-(\\d\\d\\d-\\d\\d\\d\\d)')\n",
        "mo = phoneNumRegex.search(text)\n",
        "print(mo.group())\n",
        "print(mo.group(1))"
      ],
      "execution_count": null,
      "outputs": [
        {
          "output_type": "stream",
          "text": [
            "124-234-9987\n",
            "124\n"
          ],
          "name": "stdout"
        }
      ]
    },
    {
      "cell_type": "code",
      "metadata": {
        "id": "7geythWG4qkG"
      },
      "source": [
        "text1 = 'Call me at (124) 234-9987 or n my another number 665-887-9754'"
      ],
      "execution_count": null,
      "outputs": []
    },
    {
      "cell_type": "code",
      "metadata": {
        "colab": {
          "base_uri": "https://localhost:8080/"
        },
        "id": "PHyobGSR5mAP",
        "outputId": "fe310adb-df8d-44e5-db5f-084225e5a26a"
      },
      "source": [
        "## Using Pipes to match one of many possible groups.\n",
        "\n",
        "text2 = 'Batmobile just lost a wheel.'\n",
        "batRegex = re.compile(r'Bat(man|mobile|copter|bat)')\n",
        "mo = batRegex.search(text2)\n",
        "print(mo.group())\n",
        "print(f'Which pattern was found from the group: {mo.group()}')"
      ],
      "execution_count": null,
      "outputs": [
        {
          "output_type": "stream",
          "text": [
            "Batmobile\n",
            "Which pattern was found from the group: Batmobile\n"
          ],
          "name": "stdout"
        }
      ]
    },
    {
      "cell_type": "code",
      "metadata": {
        "colab": {
          "base_uri": "https://localhost:8080/"
        },
        "id": "vnLeRxdV6lgl",
        "outputId": "34cd769f-4281-4632-ba0b-fa19b046d6ee"
      },
      "source": [
        "## Match certain number of repetitions of the group.\n",
        "\n",
        "## ? - Match the PRECEEDING group ZERO or ONE time\n",
        "batRegex = re.compile(r'Bat(wo)?man') # Re to match Batman/Batwoman\n",
        "mo = batRegex.search('The adventures of Batman')\n",
        "print(mo.group())\n",
        "\n",
        "mo = batRegex.search('The adventures of Batwoman')\n",
        "print(mo.group())\n",
        "\n",
        "mo = batRegex.search('The adventures of Batwowowoman') # wo is matched only zero or one times.\n",
        "print(mo)"
      ],
      "execution_count": null,
      "outputs": [
        {
          "output_type": "stream",
          "text": [
            "Batman\n",
            "Batwoman\n",
            "None\n"
          ],
          "name": "stdout"
        }
      ]
    },
    {
      "cell_type": "code",
      "metadata": {
        "colab": {
          "base_uri": "https://localhost:8080/"
        },
        "id": "ZOFchNqu84q6",
        "outputId": "2dedf12a-0b21-4369-8456-06de751142fc"
      },
      "source": [
        "## Match ZERO or MORE times using the asterisk(*) character.\n",
        "batRegex = re.compile(r'Bat(wo)*man') # Re to match Batman/Batwoman\n",
        "mo = batRegex.search('The adventures of Batman')\n",
        "print(mo.group())\n",
        "\n",
        "mo = batRegex.search('The adventures of Batwoman')\n",
        "print(mo.group())\n",
        "\n",
        "mo = batRegex.search('The adventures of Batwowowoman') # wo is matched only zero or one times.\n",
        "print(mo.group())"
      ],
      "execution_count": null,
      "outputs": [
        {
          "output_type": "stream",
          "text": [
            "Batman\n",
            "Batwoman\n",
            "Batwowowoman\n"
          ],
          "name": "stdout"
        }
      ]
    },
    {
      "cell_type": "code",
      "metadata": {
        "colab": {
          "base_uri": "https://localhost:8080/"
        },
        "id": "KyTx6Fn7SFp7",
        "outputId": "0275ab17-a6f6-4444-f0c6-8d6fb27ae51a"
      },
      "source": [
        "## Match ONE or MORE times using the + character.\n",
        "\n",
        "batRegex = re.compile(r'Bat(wo)+man') # Re to match Batman/Batwoman\n",
        "mo = batRegex.search('The adventures of Batman')\n",
        "print(mo)\n",
        "\n",
        "mo = batRegex.search('The adventures of Batwoman')\n",
        "print(mo.group())\n",
        "\n",
        "mo = batRegex.search('The adventures of Batwowowoman') # wo is matched only zero or one times.\n",
        "print(mo.group())\n"
      ],
      "execution_count": null,
      "outputs": [
        {
          "output_type": "stream",
          "text": [
            "None\n",
            "Batwoman\n",
            "Batwowowoman\n"
          ],
          "name": "stdout"
        }
      ]
    },
    {
      "cell_type": "code",
      "metadata": {
        "colab": {
          "base_uri": "https://localhost:8080/"
        },
        "id": "9Hhjb2fpSmRT",
        "outputId": "4deca3c7-ae75-4bee-b426-a1e7b805e833"
      },
      "source": [
        "## Match specific number of repetitions using curly braces {}.\n",
        "\n",
        "haRegex = re.compile(r'(Ha){3}')\n",
        "mo = haRegex.search('He said \"HaHaHa\"')\n",
        "print(mo.group())\n"
      ],
      "execution_count": null,
      "outputs": [
        {
          "output_type": "stream",
          "text": [
            "HaHaHa\n"
          ],
          "name": "stdout"
        }
      ]
    },
    {
      "cell_type": "code",
      "metadata": {
        "colab": {
          "base_uri": "https://localhost:8080/"
        },
        "id": "QNX4h8jRT4kH",
        "outputId": "c9be3e3f-f698-4d58-df3b-fc300f527b4a"
      },
      "source": [
        "## Match a range of possible repetitions. atleast x atmost y {x, y}\n",
        "\n",
        "haRegex = re.compile(r'(Ha){3,5}')\n",
        "mo = haRegex.search('He said \"HaHaHa\"')\n",
        "print(mo.group())\n",
        "\n",
        "mo = haRegex.search('He said \"HaHaHaHa\"')\n",
        "print(mo.group())\n",
        "\n",
        "mo = haRegex.search('He said \"HaHaHaHaHa\"')\n",
        "print(mo.group())"
      ],
      "execution_count": null,
      "outputs": [
        {
          "output_type": "stream",
          "text": [
            "HaHaHa\n",
            "HaHaHaHa\n",
            "HaHaHaHaHa\n"
          ],
          "name": "stdout"
        }
      ]
    },
    {
      "cell_type": "code",
      "metadata": {
        "colab": {
          "base_uri": "https://localhost:8080/"
        },
        "id": "cxrKqO_tVKzf",
        "outputId": "b96e5584-5f5f-4ab8-96ee-dbd60ff6faef"
      },
      "source": [
        "digitRegex = re.compile(r'\\d{3,5}') # Regex will match the longest possible string.\n",
        "mo = digitRegex.search('1234567890')\n",
        "print(mo.group())\n",
        "\n",
        "digitRegex = re.compile(r'\\d{3,5}?') # Non greedy match\n",
        "mo = digitRegex.search('1234567890')\n",
        "print(mo.group())"
      ],
      "execution_count": null,
      "outputs": [
        {
          "output_type": "stream",
          "text": [
            "12345\n",
            "123\n"
          ],
          "name": "stdout"
        }
      ]
    },
    {
      "cell_type": "code",
      "metadata": {
        "colab": {
          "base_uri": "https://localhost:8080/"
        },
        "id": "NA_BQoTqV4Xk",
        "outputId": "9924168d-9a75-4e58-f68d-ea2b2d67aca6"
      },
      "source": [
        "lyrics = '12 drummers drumming, 11 pipers piping, 10 lords a leaping, 9 ladies dancing, 8 maids a milking, 7 swans a swimming, 6 geese a laying, 5 gold rings, 4 calling birds, 3 french hens, 2 turtle doves and a partridge in a pear tree walk into a bar'\n",
        "xmasRegex = re.compile(r'\\d+\\s\\w+')\n",
        "mo = xmasRegex.findall(lyrics)\n",
        "print(mo)\n"
      ],
      "execution_count": null,
      "outputs": [
        {
          "output_type": "stream",
          "text": [
            "['12 drummers', '11 pipers', '10 lords', '9 ladies', '8 maids', '7 swans', '6 geese', '5 gold', '4 calling', '3 french', '2 turtle']\n"
          ],
          "name": "stdout"
        }
      ]
    },
    {
      "cell_type": "code",
      "metadata": {
        "id": "t0Jm9u7Mp0M5"
      },
      "source": [
        "## Creating your own character classes using []\n",
        "\n",
        "vowelRegex = re.compile(r'[aeiou]') # r'(a|e|i|o|u)'\n",
        "\n",
        "# All lowercase letters - r'[a-z]'\n",
        "# All lowercase & uppercase letters - r'[a-zA-Z]'"
      ],
      "execution_count": null,
      "outputs": []
    },
    {
      "cell_type": "code",
      "metadata": {
        "colab": {
          "base_uri": "https://localhost:8080/"
        },
        "id": "GPgiHvC_rmkS",
        "outputId": "cb155352-9321-4178-e050-c7406b82f671"
      },
      "source": [
        "# Use CARET(^) to match everything thats not specified.\n",
        "text = 'Robocop eats baby food'\n",
        "\n",
        "vowelRegex = re.compile(r'[aeiouAEIOU]')\n",
        "print(vowelRegex.findall(text))\n",
        "\n",
        "doubleVowelRegex = re.compile(r'[aeiouAEIOU]{2}')\n",
        "print(doubleVowelRegex.findall(text))\n",
        "\n",
        "consonantRegex = re.compile(r'[^aeiouAEIOU]')\n",
        "print(consonantRegex.findall(text))"
      ],
      "execution_count": null,
      "outputs": [
        {
          "output_type": "stream",
          "text": [
            "['o', 'o', 'o', 'e', 'a', 'a', 'o', 'o']\n",
            "['ea', 'oo']\n",
            "['R', 'b', 'c', 'p', ' ', 't', 's', ' ', 'b', 'b', 'y', ' ', 'f', 'd']\n"
          ],
          "name": "stdout"
        }
      ]
    },
    {
      "cell_type": "code",
      "metadata": {
        "id": "5TkY-p2HsGLN"
      },
      "source": [
        "# Use caret (^) to match patterns at the beginning of the string.\n",
        "\n"
      ],
      "execution_count": null,
      "outputs": []
    },
    {
      "cell_type": "code",
      "metadata": {
        "id": "lwbMJLsItY3K"
      },
      "source": [
        "# Use dollar ($) to match patterns at the beginning of the string."
      ],
      "execution_count": null,
      "outputs": []
    },
    {
      "cell_type": "code",
      "metadata": {
        "colab": {
          "base_uri": "https://localhost:8080/"
        },
        "id": "a8lueI9cwQiy",
        "outputId": "c3d73493-87ca-4d69-a25f-72e3a0c79346"
      },
      "source": [
        "# Use . to match any character except the newline.\n",
        "text = 'The cat in the hat sat on the flat mat.'\n",
        "atRegex = re.compile(r'.at')\n",
        "print(atRegex.findall(text))\n",
        "\n",
        "text = 'The cat in the hat sat on the flat mat.'\n",
        "atRegex = re.compile(r'.{1,2}at')\n",
        "print(atRegex.findall(text))"
      ],
      "execution_count": null,
      "outputs": [
        {
          "output_type": "stream",
          "text": [
            "['cat', 'hat', 'sat', 'lat', 'mat']\n",
            "[' cat', ' hat', ' sat', 'flat', ' mat']\n"
          ],
          "name": "stdout"
        }
      ]
    },
    {
      "cell_type": "code",
      "metadata": {
        "id": "SiP1wYx2w29A",
        "colab": {
          "base_uri": "https://localhost:8080/"
        },
        "outputId": "d807483f-9fa4-4553-c185-6d02b3b04bdc"
      },
      "source": [
        "serve = '<To serve humans> for dinner.>'\n",
        "nongreedy = re.compile(r'<(.*)>')\n",
        "print(nongreedy.findall(serve))"
      ],
      "execution_count": null,
      "outputs": [
        {
          "output_type": "stream",
          "text": [
            "['To serve humans> for dinner.']\n"
          ],
          "name": "stdout"
        }
      ]
    },
    {
      "cell_type": "code",
      "metadata": {
        "colab": {
          "base_uri": "https://localhost:8080/"
        },
        "id": "BPiMTTA9hpwV",
        "outputId": "8289baa5-669e-4a19-8f2b-32f7a7abe5ca"
      },
      "source": [
        "serve = '<To serve humans> for dinner.>'\n",
        "nongreedy = re.compile(r'<(.*?)>')\n",
        "print(nongreedy.findall(serve))"
      ],
      "execution_count": null,
      "outputs": [
        {
          "output_type": "stream",
          "text": [
            "['To serve humans']\n"
          ],
          "name": "stdout"
        }
      ]
    },
    {
      "cell_type": "code",
      "metadata": {
        "colab": {
          "base_uri": "https://localhost:8080/"
        },
        "id": "DrlfwmMXh28U",
        "outputId": "0ec1ff92-d535-469b-f4a5-fa2da1830a93"
      },
      "source": [
        "text = 'My name is Aditya Bhatt. \\nI am a Data Analyst at Google. \\nI work with the Trust and Safety team at Google'\n",
        "print(text)"
      ],
      "execution_count": null,
      "outputs": [
        {
          "output_type": "stream",
          "text": [
            "My name is Aditya Bhatt. \n",
            "I am a Data Analyst at Google. \n",
            "I work with the Trust and Safety team at Google\n"
          ],
          "name": "stdout"
        }
      ]
    },
    {
      "cell_type": "code",
      "metadata": {
        "colab": {
          "base_uri": "https://localhost:8080/"
        },
        "id": "AzRmXpYBjYpA",
        "outputId": "8ea557df-1577-415f-f5ae-b37959e5db82"
      },
      "source": [
        "dotStar = re.compile(r'.*')\n",
        "mo = dotStar.search(text)\n",
        "print(mo.group())"
      ],
      "execution_count": null,
      "outputs": [
        {
          "output_type": "stream",
          "text": [
            "My name is Aditya Bhatt. \n"
          ],
          "name": "stdout"
        }
      ]
    },
    {
      "cell_type": "code",
      "metadata": {
        "colab": {
          "base_uri": "https://localhost:8080/"
        },
        "id": "fnEe-cCQkSc1",
        "outputId": "00d45c71-e07b-4cdb-e603-b7c0afde7170"
      },
      "source": [
        "dotStar = re.compile(r'.*', re.DOTALL)\n",
        "mo = dotStar.search(text)\n",
        "print(mo.group())"
      ],
      "execution_count": null,
      "outputs": [
        {
          "output_type": "stream",
          "text": [
            "My name is Aditya Bhatt. \n",
            "I am a Data Analyst at Google. \n",
            "I work with the Trust and Safety team at Google\n"
          ],
          "name": "stdout"
        }
      ]
    },
    {
      "cell_type": "code",
      "metadata": {
        "colab": {
          "base_uri": "https://localhost:8080/"
        },
        "id": "XQBjN99fkZPs",
        "outputId": "0d4da9dc-8310-44bd-a655-e7b48901c4ed"
      },
      "source": [
        "vowelRegex = re.compile(r'[aeiou]')\n",
        "mo = vowelRegex.findall(text)\n",
        "print(mo)"
      ],
      "execution_count": null,
      "outputs": [
        {
          "output_type": "stream",
          "text": [
            "['a', 'e', 'i', 'i', 'a', 'a', 'a', 'a', 'a', 'a', 'a', 'a', 'o', 'o', 'e', 'o', 'i', 'e', 'u', 'a', 'a', 'e', 'e', 'a', 'a', 'o', 'o', 'e']\n"
          ],
          "name": "stdout"
        }
      ]
    },
    {
      "cell_type": "code",
      "metadata": {
        "colab": {
          "base_uri": "https://localhost:8080/"
        },
        "id": "F_K1UVf8krAi",
        "outputId": "c99196c3-6200-429c-cf0e-d95d867f50f1"
      },
      "source": [
        "vowelRegex = re.compile(r'[aeiou]', re.IGNORECASE)\n",
        "mo = vowelRegex.findall(text)\n",
        "print(mo)"
      ],
      "execution_count": null,
      "outputs": [
        {
          "output_type": "stream",
          "text": [
            "['a', 'e', 'i', 'A', 'i', 'a', 'a', 'I', 'a', 'a', 'a', 'a', 'A', 'a', 'a', 'o', 'o', 'e', 'I', 'o', 'i', 'e', 'u', 'a', 'a', 'e', 'e', 'a', 'a', 'o', 'o', 'e']\n"
          ],
          "name": "stdout"
        }
      ]
    },
    {
      "cell_type": "code",
      "metadata": {
        "id": "dByx5PnzkzO_"
      },
      "source": [
        "# Using sub() method to find and substitute.\n",
        "\n"
      ],
      "execution_count": null,
      "outputs": []
    },
    {
      "cell_type": "code",
      "metadata": {
        "id": "rcJrNdjEUNpk"
      },
      "source": [
        "# Assignment questions\n",
        "text = 'I am xyz in x y z from xy and xxyz and xxxxxxxxyz'"
      ],
      "execution_count": 36,
      "outputs": []
    },
    {
      "cell_type": "code",
      "metadata": {
        "colab": {
          "base_uri": "https://localhost:8080/"
        },
        "id": "uEhrss6cUctb",
        "outputId": "b2338b9d-9f5d-450d-c55a-1e447013357c"
      },
      "source": [
        "import re\n",
        "regex = re.compile(r'[xyz^]')\n",
        "mo = re.findall(regex, text)\n",
        "print(mo)"
      ],
      "execution_count": 45,
      "outputs": [
        {
          "output_type": "stream",
          "text": [
            "['x', 'y', 'z', 'x', 'y', 'z', 'x', 'y', 'x', 'x', 'y', 'z', 'x', 'x', 'x', 'x', 'x', 'x', 'x', 'x', 'y', 'z']\n"
          ],
          "name": "stdout"
        }
      ]
    },
    {
      "cell_type": "code",
      "metadata": {
        "colab": {
          "base_uri": "https://localhost:8080/",
          "height": 35
        },
        "id": "Wi_c9N7K7oaj",
        "outputId": "4bcfcae6-5839-4f65-f936-ea0c2618f1e1"
      },
      "source": [
        "text = 'i am aditya'\n",
        "text.upper()"
      ],
      "execution_count": 1,
      "outputs": [
        {
          "output_type": "execute_result",
          "data": {
            "application/vnd.google.colaboratory.intrinsic+json": {
              "type": "string"
            },
            "text/plain": [
              "'I AM ADITYA'"
            ]
          },
          "metadata": {
            "tags": []
          },
          "execution_count": 1
        }
      ]
    },
    {
      "cell_type": "markdown",
      "metadata": {
        "id": "PfpeoPvg3wsY"
      },
      "source": [
        "# NLTK"
      ]
    },
    {
      "cell_type": "code",
      "metadata": {
        "id": "pUD81KXG3x2e"
      },
      "source": [
        "import nltk"
      ],
      "execution_count": 18,
      "outputs": []
    },
    {
      "cell_type": "code",
      "metadata": {
        "colab": {
          "base_uri": "https://localhost:8080/"
        },
        "id": "6KMZr00z9xaG",
        "outputId": "49dfbae4-fbd0-44bb-92f5-5b79a8b06017"
      },
      "source": [
        "nltk.download('udhr')\n",
        "nltk.download('wordnet')\n",
        "nltk.download('punkt')"
      ],
      "execution_count": 19,
      "outputs": [
        {
          "output_type": "stream",
          "text": [
            "[nltk_data] Downloading package udhr to /root/nltk_data...\n",
            "[nltk_data]   Package udhr is already up-to-date!\n",
            "[nltk_data] Downloading package wordnet to /root/nltk_data...\n",
            "[nltk_data]   Package wordnet is already up-to-date!\n",
            "[nltk_data] Downloading package punkt to /root/nltk_data...\n",
            "[nltk_data]   Unzipping tokenizers/punkt.zip.\n"
          ],
          "name": "stdout"
        },
        {
          "output_type": "execute_result",
          "data": {
            "text/plain": [
              "True"
            ]
          },
          "metadata": {
            "tags": []
          },
          "execution_count": 19
        }
      ]
    },
    {
      "cell_type": "code",
      "metadata": {
        "id": "0uPRThN132B0"
      },
      "source": [
        "porter = nltk.PorterStemmer()"
      ],
      "execution_count": 5,
      "outputs": []
    },
    {
      "cell_type": "code",
      "metadata": {
        "id": "H5XbFzqd7nMo"
      },
      "source": [
        "udhr = nltk.corpus.udhr.words('English-Latin1')"
      ],
      "execution_count": 10,
      "outputs": []
    },
    {
      "cell_type": "code",
      "metadata": {
        "colab": {
          "base_uri": "https://localhost:8080/"
        },
        "id": "m4yCAGd-7u6W",
        "outputId": "a965f5d2-cb7d-4f87-9d8c-efa7d8d88240"
      },
      "source": [
        "udhr[:20]"
      ],
      "execution_count": 11,
      "outputs": [
        {
          "output_type": "execute_result",
          "data": {
            "text/plain": [
              "['Universal',\n",
              " 'Declaration',\n",
              " 'of',\n",
              " 'Human',\n",
              " 'Rights',\n",
              " 'Preamble',\n",
              " 'Whereas',\n",
              " 'recognition',\n",
              " 'of',\n",
              " 'the',\n",
              " 'inherent',\n",
              " 'dignity',\n",
              " 'and',\n",
              " 'of',\n",
              " 'the',\n",
              " 'equal',\n",
              " 'and',\n",
              " 'inalienable',\n",
              " 'rights',\n",
              " 'of']"
            ]
          },
          "metadata": {
            "tags": []
          },
          "execution_count": 11
        }
      ]
    },
    {
      "cell_type": "code",
      "metadata": {
        "colab": {
          "base_uri": "https://localhost:8080/"
        },
        "id": "B3Hgw5P-7_CF",
        "outputId": "5b119272-bba7-4c2d-b001-2b6fcaf893fc"
      },
      "source": [
        "[porter.stem(t) for t in udhr[:20]]"
      ],
      "execution_count": 12,
      "outputs": [
        {
          "output_type": "execute_result",
          "data": {
            "text/plain": [
              "['univers',\n",
              " 'declar',\n",
              " 'of',\n",
              " 'human',\n",
              " 'right',\n",
              " 'preambl',\n",
              " 'wherea',\n",
              " 'recognit',\n",
              " 'of',\n",
              " 'the',\n",
              " 'inher',\n",
              " 'digniti',\n",
              " 'and',\n",
              " 'of',\n",
              " 'the',\n",
              " 'equal',\n",
              " 'and',\n",
              " 'inalien',\n",
              " 'right',\n",
              " 'of']"
            ]
          },
          "metadata": {
            "tags": []
          },
          "execution_count": 12
        }
      ]
    },
    {
      "cell_type": "code",
      "metadata": {
        "colab": {
          "base_uri": "https://localhost:8080/"
        },
        "id": "YAUssPcJ8PqQ",
        "outputId": "bd5a2f43-955f-46e9-b53e-7873d961e9cd"
      },
      "source": [
        "wnl = nltk.WordNetLemmatizer()\n",
        "[wnl.lemmatize(w) for w in udhr[:20]]"
      ],
      "execution_count": 14,
      "outputs": [
        {
          "output_type": "stream",
          "text": [
            "[nltk_data] Downloading package wordnet to /root/nltk_data...\n",
            "[nltk_data]   Unzipping corpora/wordnet.zip.\n"
          ],
          "name": "stdout"
        },
        {
          "output_type": "execute_result",
          "data": {
            "text/plain": [
              "['Universal',\n",
              " 'Declaration',\n",
              " 'of',\n",
              " 'Human',\n",
              " 'Rights',\n",
              " 'Preamble',\n",
              " 'Whereas',\n",
              " 'recognition',\n",
              " 'of',\n",
              " 'the',\n",
              " 'inherent',\n",
              " 'dignity',\n",
              " 'and',\n",
              " 'of',\n",
              " 'the',\n",
              " 'equal',\n",
              " 'and',\n",
              " 'inalienable',\n",
              " 'right',\n",
              " 'of']"
            ]
          },
          "metadata": {
            "tags": []
          },
          "execution_count": 14
        }
      ]
    },
    {
      "cell_type": "code",
      "metadata": {
        "id": "LpXC9F2g8rQN"
      },
      "source": [
        "text = 'Children shouldn\\'t drink a sugary drink before bed.'"
      ],
      "execution_count": 15,
      "outputs": []
    },
    {
      "cell_type": "code",
      "metadata": {
        "colab": {
          "base_uri": "https://localhost:8080/"
        },
        "id": "5V4MyBhC9Zng",
        "outputId": "7c054e70-b033-4fd0-b8c5-a453f2bea20e"
      },
      "source": [
        "text.split(' ')"
      ],
      "execution_count": 16,
      "outputs": [
        {
          "output_type": "execute_result",
          "data": {
            "text/plain": [
              "['Children', \"shouldn't\", 'drink', 'a', 'sugary', 'drink', 'before', 'bed.']"
            ]
          },
          "metadata": {
            "tags": []
          },
          "execution_count": 16
        }
      ]
    },
    {
      "cell_type": "code",
      "metadata": {
        "colab": {
          "base_uri": "https://localhost:8080/"
        },
        "id": "RwRcQvzX9bUh",
        "outputId": "bfb3a61b-c910-4a71-ab93-cb933931b0b0"
      },
      "source": [
        "nltk.word_tokenize(text)"
      ],
      "execution_count": 20,
      "outputs": [
        {
          "output_type": "execute_result",
          "data": {
            "text/plain": [
              "['Children',\n",
              " 'should',\n",
              " \"n't\",\n",
              " 'drink',\n",
              " 'a',\n",
              " 'sugary',\n",
              " 'drink',\n",
              " 'before',\n",
              " 'bed',\n",
              " '.']"
            ]
          },
          "metadata": {
            "tags": []
          },
          "execution_count": 20
        }
      ]
    },
    {
      "cell_type": "code",
      "metadata": {
        "id": "4SoJN7EZ9t5m"
      },
      "source": [
        "text2 = 'My name is Aditya Bhatt. I am a Data Analyst with Google. I work with Trust & Safety at Google.'"
      ],
      "execution_count": 21,
      "outputs": []
    },
    {
      "cell_type": "code",
      "metadata": {
        "colab": {
          "base_uri": "https://localhost:8080/"
        },
        "id": "MCZlY8Rj-i76",
        "outputId": "000abe05-8477-40a3-8011-35efe3bdfaec"
      },
      "source": [
        "nltk.sent_tokenize(text2)"
      ],
      "execution_count": 22,
      "outputs": [
        {
          "output_type": "execute_result",
          "data": {
            "text/plain": [
              "['My name is Aditya Bhatt.',\n",
              " 'I am a Data Analyst with Google.',\n",
              " 'I work with Trust & Safety at Google.']"
            ]
          },
          "metadata": {
            "tags": []
          },
          "execution_count": 22
        }
      ]
    },
    {
      "cell_type": "code",
      "metadata": {
        "id": "XyG-FdM2-lem"
      },
      "source": [
        "# POS tagging.\n",
        "\n"
      ],
      "execution_count": null,
      "outputs": []
    },
    {
      "cell_type": "code",
      "metadata": {
        "id": "IOAXduojNI8n"
      },
      "source": [
        "# Parsing sentence structure.\n",
        "\n",
        "text15 = nltk.word_tokenize('Alice loves Bob.')\n",
        "grammar = nltk.CFG.fromstring(\"\"\"\n",
        "S -> NP VP\n",
        "VP -> V NP\n",
        "NP -> \"Alice\" | \"Bob\"\n",
        "V -> 'loves'\n",
        "\"\"\" )\n",
        "parser = nltk.ChartParser(grammar)"
      ],
      "execution_count": null,
      "outputs": []
    }
  ]
}